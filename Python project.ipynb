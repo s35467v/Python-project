# To-create-string-data-structure-
Group No: 12
Objective: To create string data structure with all methods.
Outcome: This mini-project will not only demonstrate your understanding of string manipulation but also help reinforce the fundamental concepts of data structures and algorithmic thinking, especially when implementing them from scratch.

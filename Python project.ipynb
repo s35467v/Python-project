# To-create-string-data-structure-
Group No: 12
Objective: To create string data structure with all methods.
Outcome: This mini-project will not only demonstrate your understanding of string manipulation but also help reinforce the fundamental concepts of data structures and algorithmic thinking, especially when implementing them from scratch.
class StringData:
    def _init_(self, value=""):
        self.value = value

    def set_string(self, new_value):
        self.value = new_value

    def get_string(self):
        return self.value

    def concatenate(self, other):
        self.value += other

    def length(self):
        return len(self.value)

    def to_upper(self):
        self.value = self.value.upper()

    def to_lower(self):
        self.value = self.value.lower()

    def capitalize(self):
        self.value = self.value.capitalize()

    def find_substring(self, substring):
        return self.value.find(substring)

    def replace_substring(self, old, new):
        self.value = self.value.replace(old, new)

    def split_string(self, delimiter=" "):
        return self.value.split(delimiter)

    def count_substring(self, substring):
        return self.value.count(substring)

    def starts_with(self, prefix):
        return self.value.startswith(prefix)

    def ends_with(self, suffix):
        return self.value.endswith(suffix)

    def reverse(self):
        self.value = self.value[::-1]

    def is_palindrome(self):
        return self.value == self.value[::-1]

    def remove_whitespace(self):
        self.value = self.value.strip()

# Usage example
string_data = StringData("Hello World")
string_data.to_upper()
print("Uppercase:", string_data.get_string())

string_data.set_string("hello")
string_data.capitalize()
print("Capitalized:", string_data.get_string())

string_data.concatenate(" there")
print("Concatenated:", string_data.get_string())

print("Length:", string_data.length())

print("Find 'World':", string_data.find_substring("World"))
print("Count 'l':", string_data.count_substring("l"))

string_data.replace_substring("hello", "hi")
print("Replaced:", string_data.get_string())
